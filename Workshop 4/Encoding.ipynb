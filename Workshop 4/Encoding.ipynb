{
 "cells": [
  {
   "cell_type": "markdown",
   "metadata": {},
   "source": [
    "![alt text](https://developer-blogs.nvidia.com/wp-content/uploads/2022/02/ThreeApproachestoEncoding_Featured-Image.jpg)"
   ]
  },
  {
   "cell_type": "markdown",
   "metadata": {},
   "source": [
    "\n",
    "## **1. Introduction to Encoding**\n",
    "\n",
    "### **What is Encoding?**\n",
    "Encoding is the process of converting categorical data (text or labels) into numerical format so that machine learning algorithms can process it. Most algorithms work with numerical data, so encoding is a crucial step in data preprocessing.\n",
    "\n",
    "---\n",
    "\n",
    "### **Why Encoding?**\n",
    "- Machine learning algorithms cannot process categorical data directly.\n",
    "- Encoding transforms categorical data into a format that algorithms can understand.\n",
    "- It helps in preserving the relationship between categories (e.g., ordinal encoding) or creating binary columns (e.g., one-hot encoding).\n",
    "\n",
    "---\n",
    "\n",
    "### **Types of Encoding**\n",
    "| **Encoding Type**       | **Description**                                                                 | **When to Use**                                                                 |\n",
    "|--------------------------|---------------------------------------------------------------------------------|---------------------------------------------------------------------------------|\n",
    "| **Label Encoding**       | Converts each category into a unique integer.                                   | When categories have an ordinal relationship (e.g., low, medium, high).         |\n",
    "| **One-Hot Encoding**     | Creates binary columns for each category.                                       | When categories are nominal (no ordinal relationship).                          |\n",
    "| **Ordinal Encoding**     | Converts categories into integers based on their order.                         | When categories have a clear order (e.g., small, medium, large).                |\n",
    "| **Frequency Encoding**   | Replaces categories with their frequency in the dataset.                        | When the frequency of categories is meaningful.                                 |\n",
    "| **Target Encoding**      | Replaces categories with the mean of the target variable for that category.     | When the target variable is correlated with the categories.                     |\n",
    "\n",
    "---\n",
    "\n",
    "\n",
    "\n",
    "## **2. Types of Encoding (Theoretical Explanation)**\n",
    "\n",
    "### **1. Label Encoding**\n",
    "- **What?** Converts each category into a unique integer.\n",
    "- **Why?** Useful when categories have an ordinal relationship.\n",
    "- **Example Situation**: Encoding education levels (e.g., \"High School\" → 0, \"Bachelor’s\" → 1, \"Master’s\" → 2).\n",
    "\n",
    "---\n",
    "\n",
    "### **2. One-Hot Encoding**\n",
    "- **What?** Creates binary columns for each category.\n",
    "- **Why?** Useful for nominal categories with no ordinal relationship.\n",
    "- **Example Situation**: Encoding colors (e.g., \"Red\", \"Green\", \"Blue\") into separate binary columns.\n",
    "\n",
    "---\n",
    "\n",
    "### **3. Ordinal Encoding**\n",
    "- **What?** Converts categories into integers based on their order.\n",
    "- **Why?** Useful when categories have a clear order.\n",
    "- **Example Situation**: Encoding sizes (e.g., \"Small\" → 0, \"Medium\" → 1, \"Large\" → 2).\n",
    "\n",
    "---\n",
    "\n",
    "### **4. Frequency Encoding**\n",
    "- **What?** Replaces categories with their frequency in the dataset.\n",
    "- **Why?** Useful when the frequency of categories is meaningful.\n",
    "- **Example Situation**: Encoding cities based on how often they appear in the dataset.\n",
    "\n",
    "---\n",
    "\n",
    "### **5. Target Encoding**\n",
    "- **What?** Replaces categories with the mean of the target variable for that category.\n",
    "- **Why?** Useful in predictive models to capture relationships between categorical features and the target variable.\n",
    "- **Example Situation**: Encoding product categories based on the average sales revenue associated with each category.\n",
    "\n",
    "---\n",
    "\n",
    "\n",
    "\n",
    "\n",
    "\n",
    "\n",
    "\n",
    "## **3. Practical Examples**\n",
    "\n",
    "\n",
    "\n"
   ]
  },
  {
   "cell_type": "markdown",
   "metadata": {},
   "source": [
    "### **Dataset 1: Iris Dataset (Label Encoding)**"
   ]
  },
  {
   "cell_type": "code",
   "execution_count": 1,
   "metadata": {},
   "outputs": [
    {
     "name": "stdout",
     "output_type": "stream",
     "text": [
      "  species  species_encoded\n",
      "0  setosa                0\n",
      "1  setosa                0\n",
      "2  setosa                0\n",
      "3  setosa                0\n",
      "4  setosa                0\n"
     ]
    }
   ],
   "source": [
    "import pandas as pd\n",
    "from sklearn.datasets import load_iris\n",
    "from sklearn.preprocessing import LabelEncoder\n",
    "\n",
    "# Load the Iris dataset\n",
    "iris = load_iris()\n",
    "df = pd.DataFrame(iris.data, columns=iris.feature_names)\n",
    "df['species'] = iris.target_names[iris.target]\n",
    "\n",
    "# Apply Label Encoding\n",
    "encoder = LabelEncoder()\n",
    "df['species_encoded'] = encoder.fit_transform(df['species'])\n",
    "\n",
    "print(df[['species', 'species_encoded']].head())\n"
   ]
  },
  {
   "cell_type": "code",
   "execution_count": 2,
   "metadata": {},
   "outputs": [
    {
     "data": {
      "text/plain": [
       "Index(['sepal length (cm)', 'sepal width (cm)', 'petal length (cm)',\n",
       "       'petal width (cm)', 'species', 'species_encoded'],\n",
       "      dtype='object')"
      ]
     },
     "execution_count": 2,
     "metadata": {},
     "output_type": "execute_result"
    }
   ],
   "source": [
    "df.columns"
   ]
  },
  {
   "cell_type": "code",
   "execution_count": 3,
   "metadata": {},
   "outputs": [
    {
     "data": {
      "text/plain": [
       "species\n",
       "setosa        50\n",
       "versicolor    50\n",
       "virginica     50\n",
       "Name: count, dtype: int64"
      ]
     },
     "execution_count": 3,
     "metadata": {},
     "output_type": "execute_result"
    }
   ],
   "source": [
    "df['species'].value_counts()"
   ]
  },
  {
   "cell_type": "code",
   "execution_count": 4,
   "metadata": {},
   "outputs": [
    {
     "data": {
      "text/html": [
       "<div>\n",
       "<style scoped>\n",
       "    .dataframe tbody tr th:only-of-type {\n",
       "        vertical-align: middle;\n",
       "    }\n",
       "\n",
       "    .dataframe tbody tr th {\n",
       "        vertical-align: top;\n",
       "    }\n",
       "\n",
       "    .dataframe thead th {\n",
       "        text-align: right;\n",
       "    }\n",
       "</style>\n",
       "<table border=\"1\" class=\"dataframe\">\n",
       "  <thead>\n",
       "    <tr style=\"text-align: right;\">\n",
       "      <th></th>\n",
       "      <th>sepal length (cm)</th>\n",
       "      <th>sepal width (cm)</th>\n",
       "      <th>petal length (cm)</th>\n",
       "      <th>petal width (cm)</th>\n",
       "      <th>species</th>\n",
       "      <th>species_encoded</th>\n",
       "    </tr>\n",
       "  </thead>\n",
       "  <tbody>\n",
       "    <tr>\n",
       "      <th>40</th>\n",
       "      <td>5.0</td>\n",
       "      <td>3.5</td>\n",
       "      <td>1.3</td>\n",
       "      <td>0.3</td>\n",
       "      <td>setosa</td>\n",
       "      <td>0</td>\n",
       "    </tr>\n",
       "    <tr>\n",
       "      <th>73</th>\n",
       "      <td>6.1</td>\n",
       "      <td>2.8</td>\n",
       "      <td>4.7</td>\n",
       "      <td>1.2</td>\n",
       "      <td>versicolor</td>\n",
       "      <td>1</td>\n",
       "    </tr>\n",
       "    <tr>\n",
       "      <th>97</th>\n",
       "      <td>6.2</td>\n",
       "      <td>2.9</td>\n",
       "      <td>4.3</td>\n",
       "      <td>1.3</td>\n",
       "      <td>versicolor</td>\n",
       "      <td>1</td>\n",
       "    </tr>\n",
       "    <tr>\n",
       "      <th>82</th>\n",
       "      <td>5.8</td>\n",
       "      <td>2.7</td>\n",
       "      <td>3.9</td>\n",
       "      <td>1.2</td>\n",
       "      <td>versicolor</td>\n",
       "      <td>1</td>\n",
       "    </tr>\n",
       "    <tr>\n",
       "      <th>9</th>\n",
       "      <td>4.9</td>\n",
       "      <td>3.1</td>\n",
       "      <td>1.5</td>\n",
       "      <td>0.1</td>\n",
       "      <td>setosa</td>\n",
       "      <td>0</td>\n",
       "    </tr>\n",
       "    <tr>\n",
       "      <th>2</th>\n",
       "      <td>4.7</td>\n",
       "      <td>3.2</td>\n",
       "      <td>1.3</td>\n",
       "      <td>0.2</td>\n",
       "      <td>setosa</td>\n",
       "      <td>0</td>\n",
       "    </tr>\n",
       "    <tr>\n",
       "      <th>98</th>\n",
       "      <td>5.1</td>\n",
       "      <td>2.5</td>\n",
       "      <td>3.0</td>\n",
       "      <td>1.1</td>\n",
       "      <td>versicolor</td>\n",
       "      <td>1</td>\n",
       "    </tr>\n",
       "    <tr>\n",
       "      <th>18</th>\n",
       "      <td>5.7</td>\n",
       "      <td>3.8</td>\n",
       "      <td>1.7</td>\n",
       "      <td>0.3</td>\n",
       "      <td>setosa</td>\n",
       "      <td>0</td>\n",
       "    </tr>\n",
       "    <tr>\n",
       "      <th>51</th>\n",
       "      <td>6.4</td>\n",
       "      <td>3.2</td>\n",
       "      <td>4.5</td>\n",
       "      <td>1.5</td>\n",
       "      <td>versicolor</td>\n",
       "      <td>1</td>\n",
       "    </tr>\n",
       "    <tr>\n",
       "      <th>48</th>\n",
       "      <td>5.3</td>\n",
       "      <td>3.7</td>\n",
       "      <td>1.5</td>\n",
       "      <td>0.2</td>\n",
       "      <td>setosa</td>\n",
       "      <td>0</td>\n",
       "    </tr>\n",
       "    <tr>\n",
       "      <th>88</th>\n",
       "      <td>5.6</td>\n",
       "      <td>3.0</td>\n",
       "      <td>4.1</td>\n",
       "      <td>1.3</td>\n",
       "      <td>versicolor</td>\n",
       "      <td>1</td>\n",
       "    </tr>\n",
       "    <tr>\n",
       "      <th>55</th>\n",
       "      <td>5.7</td>\n",
       "      <td>2.8</td>\n",
       "      <td>4.5</td>\n",
       "      <td>1.3</td>\n",
       "      <td>versicolor</td>\n",
       "      <td>1</td>\n",
       "    </tr>\n",
       "    <tr>\n",
       "      <th>130</th>\n",
       "      <td>7.4</td>\n",
       "      <td>2.8</td>\n",
       "      <td>6.1</td>\n",
       "      <td>1.9</td>\n",
       "      <td>virginica</td>\n",
       "      <td>2</td>\n",
       "    </tr>\n",
       "    <tr>\n",
       "      <th>59</th>\n",
       "      <td>5.2</td>\n",
       "      <td>2.7</td>\n",
       "      <td>3.9</td>\n",
       "      <td>1.4</td>\n",
       "      <td>versicolor</td>\n",
       "      <td>1</td>\n",
       "    </tr>\n",
       "    <tr>\n",
       "      <th>13</th>\n",
       "      <td>4.3</td>\n",
       "      <td>3.0</td>\n",
       "      <td>1.1</td>\n",
       "      <td>0.1</td>\n",
       "      <td>setosa</td>\n",
       "      <td>0</td>\n",
       "    </tr>\n",
       "    <tr>\n",
       "      <th>30</th>\n",
       "      <td>4.8</td>\n",
       "      <td>3.1</td>\n",
       "      <td>1.6</td>\n",
       "      <td>0.2</td>\n",
       "      <td>setosa</td>\n",
       "      <td>0</td>\n",
       "    </tr>\n",
       "    <tr>\n",
       "      <th>128</th>\n",
       "      <td>6.4</td>\n",
       "      <td>2.8</td>\n",
       "      <td>5.6</td>\n",
       "      <td>2.1</td>\n",
       "      <td>virginica</td>\n",
       "      <td>2</td>\n",
       "    </tr>\n",
       "    <tr>\n",
       "      <th>41</th>\n",
       "      <td>4.5</td>\n",
       "      <td>2.3</td>\n",
       "      <td>1.3</td>\n",
       "      <td>0.3</td>\n",
       "      <td>setosa</td>\n",
       "      <td>0</td>\n",
       "    </tr>\n",
       "    <tr>\n",
       "      <th>12</th>\n",
       "      <td>4.8</td>\n",
       "      <td>3.0</td>\n",
       "      <td>1.4</td>\n",
       "      <td>0.1</td>\n",
       "      <td>setosa</td>\n",
       "      <td>0</td>\n",
       "    </tr>\n",
       "    <tr>\n",
       "      <th>76</th>\n",
       "      <td>6.8</td>\n",
       "      <td>2.8</td>\n",
       "      <td>4.8</td>\n",
       "      <td>1.4</td>\n",
       "      <td>versicolor</td>\n",
       "      <td>1</td>\n",
       "    </tr>\n",
       "  </tbody>\n",
       "</table>\n",
       "</div>"
      ],
      "text/plain": [
       "     sepal length (cm)  sepal width (cm)  petal length (cm)  petal width (cm)  \\\n",
       "40                 5.0               3.5                1.3               0.3   \n",
       "73                 6.1               2.8                4.7               1.2   \n",
       "97                 6.2               2.9                4.3               1.3   \n",
       "82                 5.8               2.7                3.9               1.2   \n",
       "9                  4.9               3.1                1.5               0.1   \n",
       "2                  4.7               3.2                1.3               0.2   \n",
       "98                 5.1               2.5                3.0               1.1   \n",
       "18                 5.7               3.8                1.7               0.3   \n",
       "51                 6.4               3.2                4.5               1.5   \n",
       "48                 5.3               3.7                1.5               0.2   \n",
       "88                 5.6               3.0                4.1               1.3   \n",
       "55                 5.7               2.8                4.5               1.3   \n",
       "130                7.4               2.8                6.1               1.9   \n",
       "59                 5.2               2.7                3.9               1.4   \n",
       "13                 4.3               3.0                1.1               0.1   \n",
       "30                 4.8               3.1                1.6               0.2   \n",
       "128                6.4               2.8                5.6               2.1   \n",
       "41                 4.5               2.3                1.3               0.3   \n",
       "12                 4.8               3.0                1.4               0.1   \n",
       "76                 6.8               2.8                4.8               1.4   \n",
       "\n",
       "        species  species_encoded  \n",
       "40       setosa                0  \n",
       "73   versicolor                1  \n",
       "97   versicolor                1  \n",
       "82   versicolor                1  \n",
       "9        setosa                0  \n",
       "2        setosa                0  \n",
       "98   versicolor                1  \n",
       "18       setosa                0  \n",
       "51   versicolor                1  \n",
       "48       setosa                0  \n",
       "88   versicolor                1  \n",
       "55   versicolor                1  \n",
       "130   virginica                2  \n",
       "59   versicolor                1  \n",
       "13       setosa                0  \n",
       "30       setosa                0  \n",
       "128   virginica                2  \n",
       "41       setosa                0  \n",
       "12       setosa                0  \n",
       "76   versicolor                1  "
      ]
     },
     "execution_count": 4,
     "metadata": {},
     "output_type": "execute_result"
    }
   ],
   "source": [
    "df.sample(20)"
   ]
  },
  {
   "cell_type": "markdown",
   "metadata": {},
   "source": [
    "\n",
    "**Explanation**:  \n",
    "- The `species` column is encoded into integers (e.g., \"setosa\" → 0, \"versicolor\" → 1, \"virginica\" → 2).\n",
    "- Used because the species have no ordinal relationship.\n",
    "\n",
    "---"
   ]
  },
  {
   "cell_type": "markdown",
   "metadata": {},
   "source": [
    "### **Dataset 2: Titanic Dataset (One-Hot Encoding)**"
   ]
  },
  {
   "cell_type": "code",
   "execution_count": 18,
   "metadata": {},
   "outputs": [
    {
     "name": "stdout",
     "output_type": "stream",
     "text": [
      "      Sex  Sex_female  Sex_male\n",
      "0    male         0.0       1.0\n",
      "1  female         1.0       0.0\n",
      "2  female         1.0       0.0\n",
      "3  female         1.0       0.0\n",
      "4    male         0.0       1.0\n"
     ]
    },
    {
     "name": "stderr",
     "output_type": "stream",
     "text": [
      "c:\\Users\\RC\\miniconda3\\envs\\ML_Python\\Lib\\site-packages\\sklearn\\preprocessing\\_encoders.py:972: FutureWarning: `sparse` was renamed to `sparse_output` in version 1.2 and will be removed in 1.4. `sparse_output` is ignored unless you leave `sparse` to its default value.\n",
      "  warnings.warn(\n"
     ]
    }
   ],
   "source": [
    "import pandas as pd\n",
    "from sklearn.preprocessing import OneHotEncoder\n",
    "\n",
    "# Load the Titanic dataset\n",
    "url = \"https://raw.githubusercontent.com/datasciencedojo/datasets/master/titanic.csv\"\n",
    "df = pd.read_csv(url)\n",
    "\n",
    "# Apply One-Hot Encoding\n",
    "encoder = OneHotEncoder(sparse=False)\n",
    "encoded_data = encoder.fit_transform(df[['Sex']])\n",
    "encoded_df = pd.DataFrame(encoded_data, columns=encoder.get_feature_names_out(['Sex']))\n",
    "\n",
    "df = pd.concat([df, encoded_df], axis=1)\n",
    "print(df[['Sex', 'Sex_female', 'Sex_male']].head())\n"
   ]
  },
  {
   "cell_type": "code",
   "execution_count": 21,
   "metadata": {},
   "outputs": [
    {
     "data": {
      "text/html": [
       "<div>\n",
       "<style scoped>\n",
       "    .dataframe tbody tr th:only-of-type {\n",
       "        vertical-align: middle;\n",
       "    }\n",
       "\n",
       "    .dataframe tbody tr th {\n",
       "        vertical-align: top;\n",
       "    }\n",
       "\n",
       "    .dataframe thead th {\n",
       "        text-align: right;\n",
       "    }\n",
       "</style>\n",
       "<table border=\"1\" class=\"dataframe\">\n",
       "  <thead>\n",
       "    <tr style=\"text-align: right;\">\n",
       "      <th></th>\n",
       "      <th>PassengerId</th>\n",
       "      <th>Survived</th>\n",
       "      <th>Pclass</th>\n",
       "      <th>Name</th>\n",
       "      <th>Sex</th>\n",
       "      <th>Age</th>\n",
       "      <th>SibSp</th>\n",
       "      <th>Parch</th>\n",
       "      <th>Ticket</th>\n",
       "      <th>Fare</th>\n",
       "      <th>Cabin</th>\n",
       "      <th>Embarked</th>\n",
       "      <th>Sex_female</th>\n",
       "      <th>Sex_male</th>\n",
       "    </tr>\n",
       "  </thead>\n",
       "  <tbody>\n",
       "    <tr>\n",
       "      <th>0</th>\n",
       "      <td>1</td>\n",
       "      <td>0</td>\n",
       "      <td>3</td>\n",
       "      <td>Braund, Mr. Owen Harris</td>\n",
       "      <td>male</td>\n",
       "      <td>22.0</td>\n",
       "      <td>1</td>\n",
       "      <td>0</td>\n",
       "      <td>A/5 21171</td>\n",
       "      <td>7.2500</td>\n",
       "      <td>NaN</td>\n",
       "      <td>S</td>\n",
       "      <td>0.0</td>\n",
       "      <td>1.0</td>\n",
       "    </tr>\n",
       "    <tr>\n",
       "      <th>1</th>\n",
       "      <td>2</td>\n",
       "      <td>1</td>\n",
       "      <td>1</td>\n",
       "      <td>Cumings, Mrs. John Bradley (Florence Briggs Th...</td>\n",
       "      <td>female</td>\n",
       "      <td>38.0</td>\n",
       "      <td>1</td>\n",
       "      <td>0</td>\n",
       "      <td>PC 17599</td>\n",
       "      <td>71.2833</td>\n",
       "      <td>C85</td>\n",
       "      <td>C</td>\n",
       "      <td>1.0</td>\n",
       "      <td>0.0</td>\n",
       "    </tr>\n",
       "    <tr>\n",
       "      <th>2</th>\n",
       "      <td>3</td>\n",
       "      <td>1</td>\n",
       "      <td>3</td>\n",
       "      <td>Heikkinen, Miss. Laina</td>\n",
       "      <td>female</td>\n",
       "      <td>26.0</td>\n",
       "      <td>0</td>\n",
       "      <td>0</td>\n",
       "      <td>STON/O2. 3101282</td>\n",
       "      <td>7.9250</td>\n",
       "      <td>NaN</td>\n",
       "      <td>S</td>\n",
       "      <td>1.0</td>\n",
       "      <td>0.0</td>\n",
       "    </tr>\n",
       "    <tr>\n",
       "      <th>3</th>\n",
       "      <td>4</td>\n",
       "      <td>1</td>\n",
       "      <td>1</td>\n",
       "      <td>Futrelle, Mrs. Jacques Heath (Lily May Peel)</td>\n",
       "      <td>female</td>\n",
       "      <td>35.0</td>\n",
       "      <td>1</td>\n",
       "      <td>0</td>\n",
       "      <td>113803</td>\n",
       "      <td>53.1000</td>\n",
       "      <td>C123</td>\n",
       "      <td>S</td>\n",
       "      <td>1.0</td>\n",
       "      <td>0.0</td>\n",
       "    </tr>\n",
       "    <tr>\n",
       "      <th>4</th>\n",
       "      <td>5</td>\n",
       "      <td>0</td>\n",
       "      <td>3</td>\n",
       "      <td>Allen, Mr. William Henry</td>\n",
       "      <td>male</td>\n",
       "      <td>35.0</td>\n",
       "      <td>0</td>\n",
       "      <td>0</td>\n",
       "      <td>373450</td>\n",
       "      <td>8.0500</td>\n",
       "      <td>NaN</td>\n",
       "      <td>S</td>\n",
       "      <td>0.0</td>\n",
       "      <td>1.0</td>\n",
       "    </tr>\n",
       "  </tbody>\n",
       "</table>\n",
       "</div>"
      ],
      "text/plain": [
       "   PassengerId  Survived  Pclass  \\\n",
       "0            1         0       3   \n",
       "1            2         1       1   \n",
       "2            3         1       3   \n",
       "3            4         1       1   \n",
       "4            5         0       3   \n",
       "\n",
       "                                                Name     Sex   Age  SibSp  \\\n",
       "0                            Braund, Mr. Owen Harris    male  22.0      1   \n",
       "1  Cumings, Mrs. John Bradley (Florence Briggs Th...  female  38.0      1   \n",
       "2                             Heikkinen, Miss. Laina  female  26.0      0   \n",
       "3       Futrelle, Mrs. Jacques Heath (Lily May Peel)  female  35.0      1   \n",
       "4                           Allen, Mr. William Henry    male  35.0      0   \n",
       "\n",
       "   Parch            Ticket     Fare Cabin Embarked  Sex_female  Sex_male  \n",
       "0      0         A/5 21171   7.2500   NaN        S         0.0       1.0  \n",
       "1      0          PC 17599  71.2833   C85        C         1.0       0.0  \n",
       "2      0  STON/O2. 3101282   7.9250   NaN        S         1.0       0.0  \n",
       "3      0            113803  53.1000  C123        S         1.0       0.0  \n",
       "4      0            373450   8.0500   NaN        S         0.0       1.0  "
      ]
     },
     "execution_count": 21,
     "metadata": {},
     "output_type": "execute_result"
    }
   ],
   "source": [
    "df.head()"
   ]
  },
  {
   "cell_type": "code",
   "execution_count": 20,
   "metadata": {},
   "outputs": [
    {
     "data": {
      "text/plain": [
       "Sex\n",
       "male      577\n",
       "female    314\n",
       "Name: count, dtype: int64"
      ]
     },
     "execution_count": 20,
     "metadata": {},
     "output_type": "execute_result"
    }
   ],
   "source": [
    "df['Sex'].value_counts()"
   ]
  },
  {
   "cell_type": "markdown",
   "metadata": {},
   "source": [
    "**Explanation**:  \n",
    "- The `Sex` column is split into two binary columns: `Sex_female` and `Sex_male`.\n",
    "- Used because gender is a nominal category.\n",
    "\n",
    "---"
   ]
  },
  {
   "cell_type": "markdown",
   "metadata": {},
   "source": [
    "### **Dataset 3: Wine Quality Dataset (Ordinal Encoding)**"
   ]
  },
  {
   "cell_type": "code",
   "execution_count": 22,
   "metadata": {},
   "outputs": [
    {
     "name": "stdout",
     "output_type": "stream",
     "text": [
      "   quality  quality_encoded\n",
      "0        5              2.0\n",
      "1        5              2.0\n",
      "2        5              2.0\n",
      "3        6              3.0\n",
      "4        5              2.0\n"
     ]
    }
   ],
   "source": [
    "import pandas as pd\n",
    "from sklearn.preprocessing import OrdinalEncoder\n",
    "\n",
    "# Load the Wine Quality dataset\n",
    "url = \"https://archive.ics.uci.edu/ml/machine-learning-databases/wine-quality/winequality-red.csv\"\n",
    "df = pd.read_csv(url, delimiter=';')\n",
    "\n",
    "# Apply Ordinal Encoding\n",
    "encoder = OrdinalEncoder()\n",
    "df['quality_encoded'] = encoder.fit_transform(df[['quality']])\n",
    "\n",
    "print(df[['quality', 'quality_encoded']].head())\n"
   ]
  },
  {
   "cell_type": "markdown",
   "metadata": {},
   "source": [
    "\n",
    "**Explanation**:  \n",
    "- The `quality` column is encoded into integers (e.g., 3 → 0, 4 → 1, 5 → 2).\n",
    "- Used because wine quality has an ordinal relationship.\n",
    "\n",
    "---"
   ]
  },
  {
   "cell_type": "markdown",
   "metadata": {},
   "source": [
    "### **Dataset 4: Cars Dataset (Frequency Encoding)**"
   ]
  },
  {
   "cell_type": "code",
   "execution_count": 10,
   "metadata": {},
   "outputs": [
    {
     "name": "stdout",
     "output_type": "stream",
     "text": [
      "      Type  Type_frequency\n",
      "0    Small        0.222222\n",
      "1  Midsize        0.244444\n",
      "2  Compact        0.177778\n",
      "3  Midsize        0.244444\n",
      "4  Midsize        0.244444\n"
     ]
    }
   ],
   "source": [
    "\n",
    "import pandas as pd\n",
    "\n",
    "# Load the Cars dataset\n",
    "url = \"https://raw.githubusercontent.com/selva86/datasets/master/Cars93_miss.csv\"\n",
    "df = pd.read_csv(url)\n",
    "\n",
    "# Apply Frequency Encoding\n",
    "\n",
    "frequency_map = df['Type'].value_counts(normalize=True).to_dict()\n",
    "df['Type_frequency'] = df['Type'].map(frequency_map)\n",
    "\n",
    "print(df[['Type', 'Type_frequency']].head())\n"
   ]
  },
  {
   "cell_type": "code",
   "execution_count": 11,
   "metadata": {},
   "outputs": [
    {
     "data": {
      "text/plain": [
       "Type\n",
       "Midsize    22\n",
       "Small      20\n",
       "Compact    16\n",
       "Sporty     12\n",
       "Large      11\n",
       "Van         9\n",
       "Name: count, dtype: int64"
      ]
     },
     "execution_count": 11,
     "metadata": {},
     "output_type": "execute_result"
    }
   ],
   "source": [
    "df['Type'].value_counts()"
   ]
  },
  {
   "cell_type": "code",
   "execution_count": 12,
   "metadata": {},
   "outputs": [
    {
     "data": {
      "text/plain": [
       "Type_frequency\n",
       "0.244444    22\n",
       "0.222222    20\n",
       "0.177778    16\n",
       "0.133333    12\n",
       "0.122222    11\n",
       "0.100000     9\n",
       "Name: count, dtype: int64"
      ]
     },
     "execution_count": 12,
     "metadata": {},
     "output_type": "execute_result"
    }
   ],
   "source": [
    "df['Type_frequency'].value_counts()"
   ]
  },
  {
   "cell_type": "markdown",
   "metadata": {},
   "source": [
    "\n",
    "**Explanation**:  \n",
    "- The `Type` column is replaced with the frequency of each category.\n",
    "- Used because the frequency of car types is meaningful.\n",
    "\n",
    "---"
   ]
  },
  {
   "cell_type": "markdown",
   "metadata": {},
   "source": [
    "### **Dataset 5: Housing Dataset (Target Encoding)**"
   ]
  },
  {
   "cell_type": "markdown",
   "metadata": {},
   "source": [
    "**Target Encoding** is a method of encoding categorical variables by replacing each category with a value derived from the target variable, usually the **mean** or **median** of the target variable for that category.\n",
    "\n",
    "---\n",
    "\n",
    "### **Why Use Target Encoding?**\n",
    "1. Converts categorical data into numerical format while retaining information about the target variable.\n",
    "2. Works well when there is a strong relationship between the categorical feature and the target variable.\n",
    "3. Useful for high-cardinality categorical features (many unique values).\n",
    "\n",
    "---\n",
    "\n",
    "### **How It Works**\n",
    "1. Group the data by the categorical feature.\n",
    "2. Compute the target statistic (e.g., mean, median) for each category.\n",
    "3. Replace each category with the corresponding statistic.\n",
    "\n",
    "---\n",
    "\n",
    "### **Formula**\n",
    "For a categorical column `X` and target column `y`, the encoded value for a category is:\n",
    "\n",
    "\\[\n",
    "X_{\\text{encoded}} = \\frac{\\text{Sum of target values for the category}}{\\text{Count of target values for the category}}\n",
    "\\]\n",
    "\n",
    "---\n",
    "\n",
    "### **Example**\n",
    "\n",
    "| Category | Target Value | Encoded Value |  \n",
    "|----------|--------------|---------------|  \n",
    "| A        | 100          | 123.33        |  \n",
    "| B        | 200          | 220.00        |  \n",
    "| A        | 150          | 123.33        |  \n",
    "| C        | 300          | 310.00        |  \n",
    "| B        | 250          | 220.00        |  \n",
    "\n",
    "For **Category A**:\n",
    "- Mean = \\((100 + 150 + 120) / 3 = 123.33\\)\n",
    "\n",
    "---\n",
    "\n",
    "### **Advantages**\n",
    "- Captures the relationship between the feature and the target variable.\n",
    "- Produces compact numerical values, unlike one-hot encoding.\n",
    "\n",
    "### **Disadvantages**\n",
    "- Prone to **data leakage** if not handled carefully (e.g., using the entire dataset to compute means).\n",
    "- May introduce noise for small categories or sparse data.\n",
    "\n",
    "---\n",
    "\n",
    "### **When to Use?**\n",
    "- When dealing with categorical features in regression or classification tasks.\n",
    "- When the feature has many unique categories (high cardinality).\n",
    "\n",
    "---\n"
   ]
  },
  {
   "cell_type": "code",
   "execution_count": 13,
   "metadata": {},
   "outputs": [
    {
     "name": "stdout",
     "output_type": "stream",
     "text": [
      "  ocean_proximity  ocean_proximity_encoded\n",
      "0        NEAR BAY             259212.31179\n",
      "1        NEAR BAY             259212.31179\n",
      "2        NEAR BAY             259212.31179\n",
      "3        NEAR BAY             259212.31179\n",
      "4        NEAR BAY             259212.31179\n"
     ]
    }
   ],
   "source": [
    "import pandas as pd\n",
    "\n",
    "# Load the Housing dataset\n",
    "url = \"https://raw.githubusercontent.com/ageron/handson-ml2/master/datasets/housing/housing.csv\"\n",
    "df = pd.read_csv(url)\n",
    "\n",
    "# Apply Target Encoding\n",
    "target_mean = df.groupby('ocean_proximity')['median_house_value'].mean().to_dict()\n",
    "df['ocean_proximity_encoded'] = df['ocean_proximity'].map(target_mean)\n",
    "\n",
    "print(df[['ocean_proximity', 'ocean_proximity_encoded']].head())\n"
   ]
  },
  {
   "cell_type": "markdown",
   "metadata": {},
   "source": [
    "**Explanation**:  \n",
    "- The `ocean_proximity` column is replaced with the mean `median_house_value` for each category.\n",
    "- Used because the target variable (`median_house_value`) is correlated with `ocean_proximity`.\n",
    "\n",
    "---\n"
   ]
  },
  {
   "cell_type": "markdown",
   "metadata": {},
   "source": [
    "## **4. Exercises for you**\n",
    "\n",
    "1. **Label Encoding**: Use the `load_wine()` dataset and apply Label Encoding to the `target` column.  \n",
    "2. **One-Hot Encoding**: Use the `Titanic` dataset and apply One-Hot Encoding to the `Embarked` column.  \n",
    "3. **Ordinal Encoding**: Use the `Cars93` dataset and apply Ordinal Encoding to the `DriveTrain` column.  \n",
    "4. **Frequency Encoding**: Use the `Iris` dataset and apply Frequency Encoding to the `species` column.  \n",
    "5. **Target Encoding**: Use the `Housing` dataset and apply Target Encoding to the `ocean_proximity` column.\n",
    "\n",
    "---\n",
    "\n",
    "## **5. Key Takeaways**\n",
    "- Encoding is essential for converting categorical data into numerical format.  \n",
    "- Choose the encoding technique based on the nature of the data (ordinal, nominal, etc.).  \n",
    "- Always visualize and understand the data before applying encoding.\n",
    "\n",
    "----\n",
    "Any question you can Dm me on my [Linkedin](https://www.linkedin.com/in/ibrahimqasmi313/)"
   ]
  }
 ],
 "metadata": {
  "kernelspec": {
   "display_name": "ML_Python",
   "language": "python",
   "name": "python3"
  },
  "language_info": {
   "codemirror_mode": {
    "name": "ipython",
    "version": 3
   },
   "file_extension": ".py",
   "mimetype": "text/x-python",
   "name": "python",
   "nbconvert_exporter": "python",
   "pygments_lexer": "ipython3",
   "version": "3.11.7"
  }
 },
 "nbformat": 4,
 "nbformat_minor": 2
}
